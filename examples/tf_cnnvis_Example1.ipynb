{
 "cells": [
  {
   "cell_type": "code",
   "execution_count": 15,
   "metadata": {
    "collapsed": true
   },
   "outputs": [],
   "source": [
    "# import\n",
    "import os\n",
    "import sys\n",
    "import time\n",
    "import copy\n",
    "import h5py\n",
    "import numpy as np\n",
    "import tensorflow as tf\n",
    "from scipy.misc import imread, imresize\n",
    "\n",
    "sys.path.insert(0, r'C:/Users/giann/Projects/tf_cnnvis/tf_cnnvis')\n",
    "from tf_cnnvis import *\n",
    "del sys.path[0]"
   ]
  },
  {
   "cell_type": "code",
   "execution_count": 2,
   "metadata": {
    "collapsed": true
   },
   "outputs": [],
   "source": [
    "# download alexnet model weights\n",
    "if not os.path.exists(\"alexnet_weights.h5\"):\n",
    "    os.system(\"python -m wget -o alexnet_weights.h5 http://files.heuritech.com/weights/alexnet_weights.h5\")"
   ]
  },
  {
   "cell_type": "code",
   "execution_count": 3,
   "metadata": {
    "collapsed": true
   },
   "outputs": [],
   "source": [
    "# loading parameters and mean image for pretrained alexnet model\n",
    "mean = np.load(\"./img_mean.npy\").transpose((1, 2, 0)) # load mean image of imagenet dataset\n",
    "\n",
    "f = h5py.File('./alexnet_weights.h5','r')\n",
    "\n",
    "conv_1 = [f[\"conv_1\"][\"conv_1_W\"], f[\"conv_1\"][\"conv_1_b\"]]\n",
    "conv_2_1 = [f[\"conv_2_1\"][\"conv_2_1_W\"], f[\"conv_2_1\"][\"conv_2_1_b\"]]\n",
    "conv_2_2 = [f[\"conv_2_2\"][\"conv_2_2_W\"], f[\"conv_2_2\"][\"conv_2_2_b\"]]\n",
    "conv_3 = [f[\"conv_3\"][\"conv_3_W\"], f[\"conv_3\"][\"conv_3_b\"]]\n",
    "conv_4_1 = [f[\"conv_4_1\"][\"conv_4_1_W\"], f[\"conv_4_1\"][\"conv_4_1_b\"]]\n",
    "conv_4_2 = [f[\"conv_4_2\"][\"conv_4_2_W\"], f[\"conv_4_2\"][\"conv_4_2_b\"]]\n",
    "conv_5_1 = [f[\"conv_5_1\"][\"conv_5_1_W\"], f[\"conv_5_1\"][\"conv_5_1_b\"]]\n",
    "conv_5_2 = [f[\"conv_5_2\"][\"conv_5_2_W\"], f[\"conv_5_2\"][\"conv_5_2_b\"]]\n",
    "fc_6 = [f[\"dense_1\"][\"dense_1_W\"], f[\"dense_1\"][\"dense_1_b\"]]\n",
    "fc_7 = [f[\"dense_2\"][\"dense_2_W\"], f[\"dense_2\"][\"dense_2_b\"]]\n",
    "fc_8 = [f[\"dense_3\"][\"dense_3_W\"], f[\"dense_3\"][\"dense_3_b\"]]"
   ]
  },
  {
   "cell_type": "code",
   "execution_count": 4,
   "metadata": {
    "collapsed": true
   },
   "outputs": [],
   "source": [
    "# tensorflow model implementation (Alexnet convolution)\n",
    "tf.reset_default_graph()\n",
    "\n",
    "X = tf.placeholder(tf.float32, shape = [None, 224, 224, 3]) # placeholder for input images\n",
    "y_ = tf.placeholder(tf.float32, shape = [None, 1000]) # placeholder for true labels for input images\n",
    "\n",
    "radius = 5; alpha = 1e-4; beta = 0.75; bias = 2.0 # hyper parametes for lrn\n",
    "\n",
    "\n",
    "# Layer - 1 conv1\n",
    "W_conv_1 = tf.Variable(np.transpose(conv_1[0], (2, 3, 1, 0)))\n",
    "b_conv_1 = tf.Variable(np.reshape(conv_1[1], (96, )))\n",
    "\n",
    "y_conv_1 = tf.nn.conv2d(X, filter=W_conv_1, strides=[1, 4, 4, 1], padding=\"SAME\") + b_conv_1\n",
    "h_conv_1 = tf.nn.relu(y_conv_1, name = \"conv1\")\n",
    "h_conv_1 = tf.nn.local_response_normalization(h_conv_1, depth_radius=radius, alpha=alpha, beta=beta, bias=bias)\n",
    "h_pool_1 = tf.nn.max_pool(h_conv_1, ksize=[1, 3, 3, 1], strides=[1, 2, 2, 1], padding=\"VALID\")\n",
    "\n",
    "h_pool_1_1, h_pool_1_2 = tf.split(axis = 3, value = h_pool_1, num_or_size_splits = 2)\n",
    "\n",
    "\n",
    "\n",
    "# Layer - 2 conv2\n",
    "W_conv_2_1 = tf.Variable(np.transpose(conv_2_1[0], (2, 3, 1, 0)))\n",
    "b_conv_2_1 = tf.Variable(np.reshape(conv_2_1[1], (128, )))\n",
    "\n",
    "y_conv_2_1 = tf.nn.conv2d(h_pool_1_1, filter=W_conv_2_1, strides=[1, 1, 1, 1], padding=\"SAME\") + b_conv_2_1\n",
    "h_conv_2_1 = tf.nn.relu(y_conv_2_1, name = \"conv2_1\")\n",
    "h_conv_2_1 = tf.nn.local_response_normalization(h_conv_2_1, depth_radius=radius, alpha=alpha, beta=beta, bias=bias)\n",
    "h_pool_2_1 = tf.nn.max_pool(h_conv_2_1, ksize=[1, 3, 3, 1], strides=[1, 2, 2, 1], padding=\"VALID\")\n",
    "\n",
    "\n",
    "W_conv_2_2 = tf.Variable(np.transpose(conv_2_2[0], (2, 3, 1, 0)))\n",
    "b_conv_2_2 = tf.Variable(np.reshape(conv_2_2[1], (128, )))\n",
    "\n",
    "y_conv_2_2 = tf.nn.conv2d(h_pool_1_2, filter=W_conv_2_2, strides=[1, 1, 1, 1], padding=\"SAME\") + b_conv_2_2\n",
    "h_conv_2_2 = tf.nn.relu(y_conv_2_2, name = \"conv2_2\")\n",
    "h_conv_2_2 = tf.nn.local_response_normalization(h_conv_2_2, depth_radius=radius, alpha=alpha, beta=beta, bias=bias)\n",
    "h_pool_2_2 = tf.nn.max_pool(h_conv_2_2, ksize=[1, 3, 3, 1], strides=[1, 2, 2, 1], padding=\"VALID\")\n",
    "\n",
    "h_pool_2 = tf.concat(axis = 3, values = [h_pool_2_1, h_pool_2_2])\n",
    "\n",
    "\n",
    "\n",
    "# Layer - 3 conv3\n",
    "W_conv_3 = tf.Variable(np.transpose(conv_3[0], (2, 3, 1, 0)))\n",
    "b_conv_3 = tf.Variable(np.reshape(conv_3[1], (384, )))\n",
    "\n",
    "y_conv_3 = tf.nn.conv2d(h_pool_2, filter=W_conv_3, strides=[1, 1, 1, 1], padding=\"SAME\") + b_conv_3\n",
    "h_conv_3 = tf.nn.relu(y_conv_3, name = \"conv3\")\n",
    "\n",
    "h_conv_3_1, h_conv_3_2 = tf.split(axis = 3, value = h_conv_3, num_or_size_splits = 2)\n",
    "\n",
    "\n",
    "# h_conv_4_1 = h_conv_3_1\n",
    "# h_conv_4_2 = h_conv_3_2\n",
    "# Layer - 4 conv4\n",
    "W_conv_4_1 = tf.Variable(np.transpose(conv_4_1[0], (2, 3, 1, 0)))\n",
    "b_conv_4_1 = tf.Variable(np.reshape(conv_4_1[1], (192, )))\n",
    "\n",
    "y_conv_4_1 = tf.nn.conv2d(h_conv_3_1, filter=W_conv_4_1, strides=[1, 1, 1, 1], padding=\"SAME\") + b_conv_4_1\n",
    "h_conv_4_1 = tf.nn.relu(y_conv_4_1, name = \"conv4_1\")\n",
    "\n",
    "\n",
    "W_conv_4_2 = tf.Variable(np.transpose(conv_4_2[0], (2, 3, 1, 0)))\n",
    "b_conv_4_2 = tf.Variable(np.reshape(conv_4_2[1], (192, )))\n",
    "\n",
    "y_conv_4_2 = tf.nn.conv2d(h_conv_3_2, filter=W_conv_4_2, strides=[1, 1, 1, 1], padding=\"SAME\") + b_conv_4_2\n",
    "h_conv_4_2 = tf.nn.relu(y_conv_4_2, name = \"conv4_2\")\n",
    "\n",
    "h_conv_4 = tf.concat(axis = 3, values = [h_conv_4_1, h_conv_4_2])\n",
    "\n",
    "\n",
    "\n",
    "# Layer - 5 conv5\n",
    "W_conv_5_1 = tf.Variable(np.transpose(conv_5_1[0], (2, 3, 1, 0)))\n",
    "b_conv_5_1 = tf.Variable(np.reshape(conv_5_1[1], (128, )))\n",
    "\n",
    "y_conv_5_1 = tf.nn.conv2d(h_conv_4_1, filter=W_conv_5_1, strides=[1, 1, 1, 1], padding=\"SAME\") + b_conv_5_1\n",
    "h_conv_5_1 = tf.nn.relu(y_conv_5_1, name = \"conv5_1\")\n",
    "h_conv_5_1 = tf.nn.local_response_normalization(h_conv_5_1, depth_radius=radius, alpha=alpha, beta=beta, bias=bias)\n",
    "h_pool_5_1 = tf.nn.max_pool(h_conv_5_1, ksize=[1, 3, 3, 1], strides=[1, 2, 2, 1], padding=\"VALID\")\n",
    "\n",
    "\n",
    "W_conv_5_2 = tf.Variable(np.transpose(conv_5_2[0], (2, 3, 1, 0)))\n",
    "b_conv_5_2 = tf.Variable(np.reshape(conv_5_2[1], (128, )))\n",
    "\n",
    "y_conv_5_2 = tf.nn.conv2d(h_conv_4_2, filter=W_conv_5_2, strides=[1, 1, 1, 1], padding=\"SAME\") + b_conv_5_2\n",
    "h_conv_5_2 = tf.nn.relu(y_conv_5_2, name = \"conv5_2\")\n",
    "h_conv_5_2 = tf.nn.local_response_normalization(h_conv_5_2, depth_radius=radius, alpha=alpha, beta=beta, bias=bias)\n",
    "h_pool_5_2 = tf.nn.max_pool(h_conv_5_2, ksize=[1, 3, 3, 1], strides=[1, 2, 2, 1], padding=\"VALID\")\n",
    "\n",
    "h_pool_5 = tf.concat(axis = 3, values = [h_pool_5_1, h_pool_5_2])\n",
    "\n",
    "dimensions = h_pool_5.get_shape().as_list()\n",
    "dim = dimensions[1] * dimensions[2] * dimensions[3]\n",
    "\n",
    "# # Part of Alexnet model which is not required for deconvolution\n",
    "h_flatten = tf.reshape(h_pool_5, shape=[-1, dim])\n",
    "\n",
    "# Layer - 6 fc6\n",
    "W_full_6 = tf.Variable(np.array(fc_6[0]))\n",
    "b_full_6 = tf.Variable(np.array(fc_6[1]))\n",
    "\n",
    "y_full_6 = tf.add(tf.matmul(h_flatten, W_full_6), b_full_6)\n",
    "h_full_6 = tf.nn.relu(y_full_6, name = \"fc6\")\n",
    "h_dropout_6 = tf.nn.dropout(h_full_6, 0.5)\n",
    "\n",
    "\n",
    "# Layer - 7 fc7\n",
    "W_full_7 = tf.Variable(np.array(fc_7[0]))\n",
    "b_full_7 = tf.Variable(np.array(fc_7[1]))\n",
    "\n",
    "y_full_7 = tf.add(tf.matmul(h_dropout_6, W_full_7), b_full_7)\n",
    "h_full_7 = tf.nn.relu(y_full_7, name = \"fc7\")\n",
    "h_dropout_7 = tf.nn.dropout(h_full_7, 0.5)\n",
    "\n",
    "\n",
    "# Layer - 8 fc8\n",
    "W_full_8 = tf.Variable(np.array(fc_8[0]))\n",
    "b_full_8 = tf.Variable(np.array(fc_8[1]))\n",
    "\n",
    "y_full_8 = tf.add(tf.matmul(h_dropout_7, W_full_8), b_full_8, name = \"fc8\")"
   ]
  },
  {
   "cell_type": "code",
   "execution_count": 5,
   "metadata": {
    "collapsed": false
   },
   "outputs": [
    {
     "name": "stderr",
     "output_type": "stream",
     "text": [
      "C:\\Users\\giann\\Anaconda3\\envs\\tensorOCV\\lib\\site-packages\\ipykernel_launcher.py:2: DeprecationWarning: `imread` is deprecated!\n",
      "`imread` is deprecated in SciPy 1.0.0, and will be removed in 1.2.0.\n",
      "Use ``imageio.imread`` instead.\n",
      "  \n",
      "C:\\Users\\giann\\Anaconda3\\envs\\tensorOCV\\lib\\site-packages\\ipykernel_launcher.py:2: DeprecationWarning: `imresize` is deprecated!\n",
      "`imresize` is deprecated in SciPy 1.0.0, and will be removed in 1.2.0.\n",
      "Use ``skimage.transform.resize`` instead.\n",
      "  \n",
      "C:\\Users\\giann\\Anaconda3\\envs\\tensorOCV\\lib\\site-packages\\ipykernel_launcher.py:3: DeprecationWarning: `imresize` is deprecated!\n",
      "`imresize` is deprecated in SciPy 1.0.0, and will be removed in 1.2.0.\n",
      "Use ``skimage.transform.resize`` instead.\n",
      "  This is separate from the ipykernel package so we can avoid doing imports until\n"
     ]
    }
   ],
   "source": [
    "# reading sample image\n",
    "im = np.expand_dims(imresize(imresize(imread(os.path.join(\"sample_images\", \"images.jpg\")), (256, 256)) - mean, \n",
    "                             (224, 224)), axis = 0)"
   ]
  },
  {
   "cell_type": "code",
   "execution_count": 7,
   "metadata": {
    "collapsed": false
   },
   "outputs": [],
   "source": [
    "# open a session and initialize graph variables\n",
    "# CAVEAT: trained alexnet weights have been set as initialization values in the graph nodes.\n",
    "#         For this reason visualization can be performed just after initialization\n",
    "sess = tf.Session(graph=tf.get_default_graph())\n",
    "sess.run(tf.global_variables_initializer())"
   ]
  },
  {
   "cell_type": "code",
   "execution_count": 9,
   "metadata": {
    "collapsed": false
   },
   "outputs": [
    {
     "name": "stdout",
     "output_type": "stream",
     "text": [
      "INFO:tensorflow:Restoring parameters from model\\tmp-model\n",
      "Reconstruction Completed for conv1 layer. Time taken = 0.197091 s\n",
      "Reconstruction Completed for conv2_1 layer. Time taken = 0.112829 s\n",
      "Reconstruction Completed for conv2_2 layer. Time taken = 0.103245 s\n",
      "Reconstruction Completed for conv3 layer. Time taken = 0.122237 s\n",
      "Reconstruction Completed for conv4_1 layer. Time taken = 0.096248 s\n",
      "Reconstruction Completed for conv4_2 layer. Time taken = 0.092852 s\n",
      "Reconstruction Completed for conv5_1 layer. Time taken = 0.084220 s\n",
      "Reconstruction Completed for conv5_2 layer. Time taken = 0.088238 s\n",
      "Skipping. Too many featuremaps. May cause memory errors.\n",
      "Skipping. Too many featuremaps. May cause memory errors.\n",
      "Reconstruction Completed for MaxPool layer. Time taken = 0.072814 s\n",
      "Reconstruction Completed for MaxPool_1 layer. Time taken = 0.064835 s\n",
      "Reconstruction Completed for MaxPool_2 layer. Time taken = 0.063783 s\n",
      "Reconstruction Completed for MaxPool_3 layer. Time taken = 0.082376 s\n",
      "Reconstruction Completed for MaxPool_4 layer. Time taken = 0.071227 s\n",
      "Reconstruction Completed for Conv2D layer. Time taken = 0.139840 s\n",
      "Reconstruction Completed for Conv2D_1 layer. Time taken = 0.080081 s\n",
      "Reconstruction Completed for Conv2D_2 layer. Time taken = 0.079159 s\n",
      "Reconstruction Completed for Conv2D_3 layer. Time taken = 0.098842 s\n",
      "Reconstruction Completed for Conv2D_4 layer. Time taken = 0.077548 s\n",
      "Reconstruction Completed for Conv2D_5 layer. Time taken = 0.079904 s\n",
      "Reconstruction Completed for Conv2D_6 layer. Time taken = 0.078581 s\n",
      "Reconstruction Completed for Conv2D_7 layer. Time taken = 0.087942 s\n",
      "Total Time = 9.390236\n"
     ]
    }
   ],
   "source": [
    "# activation visualization\n",
    "layers = ['r', 'p', 'c']\n",
    "\n",
    "start = time.time()\n",
    "with sess.as_default():\n",
    "    is_success = activation_visualization(sess_graph_path = None, value_feed_dict = {X : im}, \n",
    "                                          layers=layers, path_logdir=os.path.join(\"Log\",\"AlexNet\"), \n",
    "                                          path_outdir=os.path.join(\"Output\",\"AlexNet\"))\n",
    "start = time.time() - start\n",
    "print(\"Total Time = %f\" % (start))"
   ]
  },
  {
   "cell_type": "code",
   "execution_count": 12,
   "metadata": {
    "collapsed": false
   },
   "outputs": [
    {
     "name": "stdout",
     "output_type": "stream",
     "text": [
      "INFO:tensorflow:Restoring parameters from model\\tmp-model\n",
      "Reconstruction Completed for conv1 layer. Time taken = 6.086680 s\n",
      "Reconstruction Completed for conv2_1 layer. Time taken = 14.330129 s\n",
      "Reconstruction Completed for conv2_2 layer. Time taken = 13.539706 s\n",
      "Reconstruction Completed for conv3 layer. Time taken = 51.389293 s\n",
      "Reconstruction Completed for conv4_1 layer. Time taken = 27.758152 s\n",
      "Reconstruction Completed for conv4_2 layer. Time taken = 27.716882 s\n",
      "Reconstruction Completed for conv5_1 layer. Time taken = 15.138553 s\n",
      "Reconstruction Completed for conv5_2 layer. Time taken = 17.424449 s\n",
      "Skipping. Too many featuremaps. May cause memory errors.\n",
      "Skipping. Too many featuremaps. May cause memory errors.\n",
      "Reconstruction Completed for MaxPool layer. Time taken = 7.035349 s\n",
      "Reconstruction Completed for MaxPool_1 layer. Time taken = 14.051594 s\n",
      "Reconstruction Completed for MaxPool_2 layer. Time taken = 13.250973 s\n",
      "Reconstruction Completed for MaxPool_3 layer. Time taken = 16.356598 s\n",
      "Reconstruction Completed for MaxPool_4 layer. Time taken = 17.736508 s\n",
      "Reconstruction Completed for Conv2D layer. Time taken = 4.783646 s\n",
      "Reconstruction Completed for Conv2D_1 layer. Time taken = 13.808297 s\n",
      "Reconstruction Completed for Conv2D_2 layer. Time taken = 11.612177 s\n",
      "Reconstruction Completed for Conv2D_3 layer. Time taken = 49.952301 s\n",
      "Reconstruction Completed for Conv2D_4 layer. Time taken = 28.501087 s\n",
      "Reconstruction Completed for Conv2D_5 layer. Time taken = 29.194505 s\n",
      "Reconstruction Completed for Conv2D_6 layer. Time taken = 19.683325 s\n",
      "Reconstruction Completed for Conv2D_7 layer. Time taken = 20.473815 s\n",
      "Total Time = 430.320485\n"
     ]
    }
   ],
   "source": [
    "# deconv visualization\n",
    "layers = ['r', 'p', 'c']\n",
    "\n",
    "start = time.time()\n",
    "with sess.as_default():\n",
    "    is_success = deconv_visualization(sess_or_path = None, value_feed_dict = {X : im}, \n",
    "                                      layers=layers, path_logdir=os.path.join(\"Log\",\"AlexNet\"), \n",
    "                                      path_outdir=os.path.join(\"Output\",\"AlexNet\"))\n",
    "start = time.time() - start\n",
    "print(\"Total Time = %f\" % (start))"
   ]
  },
  {
   "cell_type": "code",
   "execution_count": 14,
   "metadata": {
    "collapsed": true
   },
   "outputs": [],
   "source": [
    "#close the session and release variables\n",
    "sess.close()"
   ]
  },
  {
   "cell_type": "code",
   "execution_count": null,
   "metadata": {
    "collapsed": true
   },
   "outputs": [],
   "source": []
  }
 ],
 "metadata": {
  "anaconda-cloud": {},
  "kernelspec": {
   "display_name": "Python TensorOCV",
   "language": "python",
   "name": "tensorocv"
  },
  "language_info": {
   "codemirror_mode": {
    "name": "ipython",
    "version": 3
   },
   "file_extension": ".py",
   "mimetype": "text/x-python",
   "name": "python",
   "nbconvert_exporter": "python",
   "pygments_lexer": "ipython3",
   "version": "3.5.4"
  }
 },
 "nbformat": 4,
 "nbformat_minor": 2
}
